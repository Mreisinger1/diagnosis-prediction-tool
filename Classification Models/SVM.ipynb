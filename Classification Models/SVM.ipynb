{
 "cells": [
  {
   "cell_type": "markdown",
   "id": "e4948cdb",
   "metadata": {},
   "source": [
    "Support Vector Machine- doesn't perform well with large datasets or with data that overlaps but works well with a clear margin of seperation."
   ]
  },
  {
   "cell_type": "code",
   "execution_count": 1,
   "id": "96e65214",
   "metadata": {},
   "outputs": [],
   "source": [
    "from sklearn.svm import SVC \n",
    "import matplotlib.pyplot as plt\n",
    "import pandas as pd\n",
    "import numpy as np\n",
    "import os\n",
    "from sklearn.model_selection import train_test_split\n",
    "from sklearn.metrics import classification_report"
   ]
  },
  {
   "cell_type": "code",
   "execution_count": 2,
   "id": "110778b1",
   "metadata": {},
   "outputs": [],
   "source": [
    "df = pd.read_csv('../Resources/weighted_samples_df.csv')"
   ]
  },
  {
   "cell_type": "code",
   "execution_count": 3,
   "id": "6e2d7f50",
   "metadata": {},
   "outputs": [
    {
     "data": {
      "text/html": [
       "<div>\n",
       "<style scoped>\n",
       "    .dataframe tbody tr th:only-of-type {\n",
       "        vertical-align: middle;\n",
       "    }\n",
       "\n",
       "    .dataframe tbody tr th {\n",
       "        vertical-align: top;\n",
       "    }\n",
       "\n",
       "    .dataframe thead th {\n",
       "        text-align: right;\n",
       "    }\n",
       "</style>\n",
       "<table border=\"1\" class=\"dataframe\">\n",
       "  <thead>\n",
       "    <tr style=\"text-align: right;\">\n",
       "      <th></th>\n",
       "      <th>sample_id</th>\n",
       "      <th>abdominal_pain</th>\n",
       "      <th>abnormal_menstruation</th>\n",
       "      <th>acidity</th>\n",
       "      <th>acute_liver_failure</th>\n",
       "      <th>altered_sensorium</th>\n",
       "      <th>anxiety</th>\n",
       "      <th>back_pain</th>\n",
       "      <th>belly_pain</th>\n",
       "      <th>blackheads</th>\n",
       "      <th>...</th>\n",
       "      <th>watering_from_eyes</th>\n",
       "      <th>weakness_in_limbs</th>\n",
       "      <th>weakness_of_one_body_side</th>\n",
       "      <th>weight_gain</th>\n",
       "      <th>weight_loss</th>\n",
       "      <th>yellow_crust_ooze</th>\n",
       "      <th>yellow_urine</th>\n",
       "      <th>yellowing_of_eyes</th>\n",
       "      <th>yellowish_skin</th>\n",
       "      <th>disease</th>\n",
       "    </tr>\n",
       "  </thead>\n",
       "  <tbody>\n",
       "    <tr>\n",
       "      <th>0</th>\n",
       "      <td>0</td>\n",
       "      <td>0.0</td>\n",
       "      <td>0.0</td>\n",
       "      <td>0.0</td>\n",
       "      <td>0.0</td>\n",
       "      <td>0.0</td>\n",
       "      <td>0.0</td>\n",
       "      <td>0.0</td>\n",
       "      <td>0.0</td>\n",
       "      <td>0.0</td>\n",
       "      <td>...</td>\n",
       "      <td>0.0</td>\n",
       "      <td>0.0</td>\n",
       "      <td>0.0</td>\n",
       "      <td>0.0</td>\n",
       "      <td>0.0</td>\n",
       "      <td>0.0</td>\n",
       "      <td>0.0</td>\n",
       "      <td>0.0</td>\n",
       "      <td>0.0</td>\n",
       "      <td>Fungal infection</td>\n",
       "    </tr>\n",
       "    <tr>\n",
       "      <th>1</th>\n",
       "      <td>1</td>\n",
       "      <td>0.0</td>\n",
       "      <td>0.0</td>\n",
       "      <td>0.0</td>\n",
       "      <td>0.0</td>\n",
       "      <td>0.0</td>\n",
       "      <td>0.0</td>\n",
       "      <td>0.0</td>\n",
       "      <td>0.0</td>\n",
       "      <td>0.0</td>\n",
       "      <td>...</td>\n",
       "      <td>0.0</td>\n",
       "      <td>0.0</td>\n",
       "      <td>0.0</td>\n",
       "      <td>0.0</td>\n",
       "      <td>0.0</td>\n",
       "      <td>0.0</td>\n",
       "      <td>0.0</td>\n",
       "      <td>0.0</td>\n",
       "      <td>0.0</td>\n",
       "      <td>Fungal infection</td>\n",
       "    </tr>\n",
       "    <tr>\n",
       "      <th>2</th>\n",
       "      <td>2</td>\n",
       "      <td>0.0</td>\n",
       "      <td>0.0</td>\n",
       "      <td>0.0</td>\n",
       "      <td>0.0</td>\n",
       "      <td>0.0</td>\n",
       "      <td>0.0</td>\n",
       "      <td>0.0</td>\n",
       "      <td>0.0</td>\n",
       "      <td>0.0</td>\n",
       "      <td>...</td>\n",
       "      <td>0.0</td>\n",
       "      <td>0.0</td>\n",
       "      <td>0.0</td>\n",
       "      <td>0.0</td>\n",
       "      <td>0.0</td>\n",
       "      <td>0.0</td>\n",
       "      <td>0.0</td>\n",
       "      <td>0.0</td>\n",
       "      <td>0.0</td>\n",
       "      <td>Fungal infection</td>\n",
       "    </tr>\n",
       "    <tr>\n",
       "      <th>3</th>\n",
       "      <td>3</td>\n",
       "      <td>0.0</td>\n",
       "      <td>0.0</td>\n",
       "      <td>0.0</td>\n",
       "      <td>0.0</td>\n",
       "      <td>0.0</td>\n",
       "      <td>0.0</td>\n",
       "      <td>0.0</td>\n",
       "      <td>0.0</td>\n",
       "      <td>0.0</td>\n",
       "      <td>...</td>\n",
       "      <td>0.0</td>\n",
       "      <td>0.0</td>\n",
       "      <td>0.0</td>\n",
       "      <td>0.0</td>\n",
       "      <td>0.0</td>\n",
       "      <td>0.0</td>\n",
       "      <td>0.0</td>\n",
       "      <td>0.0</td>\n",
       "      <td>0.0</td>\n",
       "      <td>Fungal infection</td>\n",
       "    </tr>\n",
       "    <tr>\n",
       "      <th>4</th>\n",
       "      <td>4</td>\n",
       "      <td>0.0</td>\n",
       "      <td>0.0</td>\n",
       "      <td>0.0</td>\n",
       "      <td>0.0</td>\n",
       "      <td>0.0</td>\n",
       "      <td>0.0</td>\n",
       "      <td>0.0</td>\n",
       "      <td>0.0</td>\n",
       "      <td>0.0</td>\n",
       "      <td>...</td>\n",
       "      <td>0.0</td>\n",
       "      <td>0.0</td>\n",
       "      <td>0.0</td>\n",
       "      <td>0.0</td>\n",
       "      <td>0.0</td>\n",
       "      <td>0.0</td>\n",
       "      <td>0.0</td>\n",
       "      <td>0.0</td>\n",
       "      <td>0.0</td>\n",
       "      <td>Fungal infection</td>\n",
       "    </tr>\n",
       "  </tbody>\n",
       "</table>\n",
       "<p>5 rows × 133 columns</p>\n",
       "</div>"
      ],
      "text/plain": [
       "   sample_id  abdominal_pain  abnormal_menstruation  acidity  \\\n",
       "0          0             0.0                    0.0      0.0   \n",
       "1          1             0.0                    0.0      0.0   \n",
       "2          2             0.0                    0.0      0.0   \n",
       "3          3             0.0                    0.0      0.0   \n",
       "4          4             0.0                    0.0      0.0   \n",
       "\n",
       "   acute_liver_failure  altered_sensorium  anxiety  back_pain  belly_pain  \\\n",
       "0                  0.0                0.0      0.0        0.0         0.0   \n",
       "1                  0.0                0.0      0.0        0.0         0.0   \n",
       "2                  0.0                0.0      0.0        0.0         0.0   \n",
       "3                  0.0                0.0      0.0        0.0         0.0   \n",
       "4                  0.0                0.0      0.0        0.0         0.0   \n",
       "\n",
       "   blackheads  ...  watering_from_eyes  weakness_in_limbs  \\\n",
       "0         0.0  ...                 0.0                0.0   \n",
       "1         0.0  ...                 0.0                0.0   \n",
       "2         0.0  ...                 0.0                0.0   \n",
       "3         0.0  ...                 0.0                0.0   \n",
       "4         0.0  ...                 0.0                0.0   \n",
       "\n",
       "   weakness_of_one_body_side  weight_gain  weight_loss  yellow_crust_ooze  \\\n",
       "0                        0.0          0.0          0.0                0.0   \n",
       "1                        0.0          0.0          0.0                0.0   \n",
       "2                        0.0          0.0          0.0                0.0   \n",
       "3                        0.0          0.0          0.0                0.0   \n",
       "4                        0.0          0.0          0.0                0.0   \n",
       "\n",
       "   yellow_urine  yellowing_of_eyes  yellowish_skin           disease  \n",
       "0           0.0                0.0             0.0  Fungal infection  \n",
       "1           0.0                0.0             0.0  Fungal infection  \n",
       "2           0.0                0.0             0.0  Fungal infection  \n",
       "3           0.0                0.0             0.0  Fungal infection  \n",
       "4           0.0                0.0             0.0  Fungal infection  \n",
       "\n",
       "[5 rows x 133 columns]"
      ]
     },
     "execution_count": 3,
     "metadata": {},
     "output_type": "execute_result"
    }
   ],
   "source": [
    "df.head()"
   ]
  },
  {
   "cell_type": "code",
   "execution_count": 4,
   "id": "b9adc628",
   "metadata": {},
   "outputs": [
    {
     "name": "stdout",
     "output_type": "stream",
     "text": [
      "Shape:  (4920, 131) (4920,)\n"
     ]
    }
   ],
   "source": [
    "y = df['disease']\n",
    "target_names = df['disease'].unique()\n",
    "\n",
    "X = df.drop(['disease', 'sample_id'], axis=1)\n",
    "print(\"Shape: \", X.shape, y.shape)"
   ]
  },
  {
   "cell_type": "code",
   "execution_count": 5,
   "id": "e77d8f44",
   "metadata": {},
   "outputs": [],
   "source": [
    "X_train, X_test, y_train, y_test = train_test_split(X, y, stratify = y,random_state= 1)"
   ]
  },
  {
   "cell_type": "code",
   "execution_count": 6,
   "id": "4f02b8f9",
   "metadata": {},
   "outputs": [
    {
     "data": {
      "text/plain": [
       "SVC(kernel='linear')"
      ]
     },
     "execution_count": 6,
     "metadata": {},
     "output_type": "execute_result"
    }
   ],
   "source": [
    "model = SVC(kernel='linear')\n",
    "model.fit(X_train, y_train)"
   ]
  },
  {
   "cell_type": "code",
   "execution_count": 7,
   "id": "186c11c3",
   "metadata": {},
   "outputs": [
    {
     "name": "stdout",
     "output_type": "stream",
     "text": [
      "Test Acc: 1.000\n"
     ]
    }
   ],
   "source": [
    "print('Test Acc: %.3f' % model.score(X_test, y_test))"
   ]
  },
  {
   "cell_type": "code",
   "execution_count": 8,
   "id": "44007160",
   "metadata": {},
   "outputs": [
    {
     "name": "stdout",
     "output_type": "stream",
     "text": [
      "                                         precision    recall  f1-score   support\n",
      "\n",
      "                       Fungal infection       1.00      1.00      1.00        30\n",
      "                                Allergy       1.00      1.00      1.00        30\n",
      "                                   GERD       1.00      1.00      1.00        30\n",
      "                    Chronic cholestasis       1.00      1.00      1.00        30\n",
      "                          Drug Reaction       1.00      1.00      1.00        30\n",
      "                    Peptic ulcer diseae       1.00      1.00      1.00        30\n",
      "                                   AIDS       1.00      1.00      1.00        30\n",
      "                               Diabetes       1.00      1.00      1.00        30\n",
      "                        Gastroenteritis       1.00      1.00      1.00        30\n",
      "                       Bronchial Asthma       1.00      1.00      1.00        30\n",
      "                           Hypertension       1.00      1.00      1.00        30\n",
      "                               Migraine       1.00      1.00      1.00        30\n",
      "                   Cervical spondylosis       1.00      1.00      1.00        30\n",
      "           Paralysis (brain hemorrhage)       1.00      1.00      1.00        30\n",
      "                               Jaundice       1.00      1.00      1.00        30\n",
      "                                Malaria       1.00      1.00      1.00        30\n",
      "                            Chicken pox       1.00      1.00      1.00        30\n",
      "                                 Dengue       1.00      1.00      1.00        30\n",
      "                                Typhoid       1.00      1.00      1.00        30\n",
      "                            hepatitis A       1.00      1.00      1.00        30\n",
      "                            Hepatitis B       1.00      1.00      1.00        30\n",
      "                            Hepatitis C       1.00      1.00      1.00        30\n",
      "                            Hepatitis D       1.00      1.00      1.00        30\n",
      "                            Hepatitis E       1.00      1.00      1.00        30\n",
      "                    Alcoholic hepatitis       1.00      1.00      1.00        30\n",
      "                           Tuberculosis       1.00      1.00      1.00        30\n",
      "                            Common Cold       1.00      1.00      1.00        30\n",
      "                              Pneumonia       1.00      1.00      1.00        30\n",
      "           Dimorphic hemorrhoids(piles)       1.00      1.00      1.00        30\n",
      "                           Heart attack       1.00      1.00      1.00        30\n",
      "                         Varicose veins       1.00      1.00      1.00        30\n",
      "                         Hypothyroidism       1.00      1.00      1.00        30\n",
      "                        Hyperthyroidism       1.00      1.00      1.00        30\n",
      "                           Hypoglycemia       1.00      1.00      1.00        30\n",
      "                        Osteoarthristis       1.00      1.00      1.00        30\n",
      "                              Arthritis       1.00      1.00      1.00        30\n",
      "(vertigo) Paroymsal  Positional Vertigo       1.00      1.00      1.00        30\n",
      "                                   Acne       1.00      1.00      1.00        30\n",
      "                Urinary tract infection       1.00      1.00      1.00        30\n",
      "                              Psoriasis       1.00      1.00      1.00        30\n",
      "                               Impetigo       1.00      1.00      1.00        30\n",
      "\n",
      "                               accuracy                           1.00      1230\n",
      "                              macro avg       1.00      1.00      1.00      1230\n",
      "                           weighted avg       1.00      1.00      1.00      1230\n",
      "\n"
     ]
    }
   ],
   "source": [
    "predictions = model.predict(X_test)\n",
    "print(classification_report(y_test, predictions,\n",
    "                            target_names=target_names))"
   ]
  },
  {
   "cell_type": "code",
   "execution_count": null,
   "id": "90c57550",
   "metadata": {},
   "outputs": [],
   "source": []
  }
 ],
 "metadata": {
  "kernelspec": {
   "display_name": "PythonData38",
   "language": "python",
   "name": "pythondata38"
  },
  "language_info": {
   "codemirror_mode": {
    "name": "ipython",
    "version": 3
   },
   "file_extension": ".py",
   "mimetype": "text/x-python",
   "name": "python",
   "nbconvert_exporter": "python",
   "pygments_lexer": "ipython3",
   "version": "3.9.12"
  }
 },
 "nbformat": 4,
 "nbformat_minor": 5
}
