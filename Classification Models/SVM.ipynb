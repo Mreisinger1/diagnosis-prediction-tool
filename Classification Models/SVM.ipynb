{
 "cells": [
  {
   "cell_type": "markdown",
   "id": "e4948cdb",
   "metadata": {},
   "source": [
    "Support Vector Machine- doesn't perform well with large datasets or with data that overlaps but works well with a clear margin of seperation."
   ]
  },
  {
   "cell_type": "code",
   "execution_count": null,
   "id": "96e65214",
   "metadata": {},
   "outputs": [],
   "source": [
    "from sklearn.svm import SVC \n",
    "import matplotlib.pyplot as plt\n",
    "import pandas as pd\n",
    "import numpy as np\n",
    "import os\n",
    "from sklearn.model_selection import train_test_split\n",
    "from sklearn.metrics import classification_report"
   ]
  },
  {
   "cell_type": "code",
   "execution_count": null,
   "id": "110778b1",
   "metadata": {},
   "outputs": [],
   "source": [
    "df = pd.read_csv('../Resources/weighted_samples_df.csv')"
   ]
  },
  {
   "cell_type": "code",
   "execution_count": null,
   "id": "6e2d7f50",
   "metadata": {},
   "outputs": [],
   "source": [
    "df.head()"
   ]
  },
  {
   "cell_type": "code",
   "execution_count": null,
   "id": "b9adc628",
   "metadata": {},
   "outputs": [],
   "source": [
    "y = df['disease']\n",
    "target_names = df['disease'].unique()\n",
    "\n",
    "X = df.drop(['disease', 'sample_id'], axis=1)\n",
    "print(\"Shape: \", X.shape, y.shape)"
   ]
  },
  {
   "cell_type": "code",
   "execution_count": null,
   "id": "e77d8f44",
   "metadata": {},
   "outputs": [],
   "source": [
    "X_train, X_test, y_train, y_test = train_test_split(X, y, stratify = y,random_state= 1)"
   ]
  },
  {
   "cell_type": "code",
   "execution_count": null,
   "id": "4f02b8f9",
   "metadata": {},
   "outputs": [],
   "source": [
    "model = SVC(kernel='linear')\n",
    "model.fit(X_train, y_train)"
   ]
  },
  {
   "cell_type": "code",
   "execution_count": null,
   "id": "186c11c3",
   "metadata": {},
   "outputs": [],
   "source": [
    "print('Test Acc: %.3f' % model.score(X_test, y_test))"
   ]
  },
  {
   "cell_type": "code",
   "execution_count": null,
   "id": "44007160",
   "metadata": {},
   "outputs": [],
   "source": [
    "predictions = model.predict(X_test)\n",
    "print(classification_report(y_test, predictions,\n",
    "                            target_names=target_names))"
   ]
  },
  {
   "cell_type": "code",
   "execution_count": null,
   "id": "90c57550",
   "metadata": {},
   "outputs": [],
   "source": []
  }
 ],
 "metadata": {
  "kernelspec": {
   "display_name": "PythonData38",
   "language": "python",
   "name": "pythondata38"
  },
  "language_info": {
   "codemirror_mode": {
    "name": "ipython",
    "version": 3
   },
   "file_extension": ".py",
   "mimetype": "text/x-python",
   "name": "python",
   "nbconvert_exporter": "python",
   "pygments_lexer": "ipython3",
   "version": "3.9.12"
  }
 },
 "nbformat": 4,
 "nbformat_minor": 5
}
