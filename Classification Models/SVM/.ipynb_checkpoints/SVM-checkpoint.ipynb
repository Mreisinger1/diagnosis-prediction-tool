{
 "cells": [
  {
   "cell_type": "markdown",
   "id": "e4948cdb",
   "metadata": {},
   "source": [
    "# Support Vector Machine Model\n",
    "Support Vector Machine: doesn't perform well with large datasets or with data that overlaps but works well with a clear margin of seperation."
   ]
  },
  {
   "cell_type": "code",
   "execution_count": 1,
   "id": "96e65214",
   "metadata": {},
   "outputs": [],
   "source": [
    "from sklearn.svm import SVC \n",
    "import matplotlib.pyplot as plt\n",
    "import pandas as pd\n",
    "import numpy as np\n",
    "import os\n",
    "from sklearn.model_selection import train_test_split\n",
    "from sklearn.metrics import classification_report\n",
    "from sklearn.metrics import confusion_matrix\n",
    "from sklearn import svm, datasets"
   ]
  },
  {
   "cell_type": "code",
   "execution_count": 2,
   "id": "110778b1",
   "metadata": {},
   "outputs": [
    {
     "data": {
      "text/html": [
       "<div>\n",
       "<style scoped>\n",
       "    .dataframe tbody tr th:only-of-type {\n",
       "        vertical-align: middle;\n",
       "    }\n",
       "\n",
       "    .dataframe tbody tr th {\n",
       "        vertical-align: top;\n",
       "    }\n",
       "\n",
       "    .dataframe thead th {\n",
       "        text-align: right;\n",
       "    }\n",
       "</style>\n",
       "<table border=\"1\" class=\"dataframe\">\n",
       "  <thead>\n",
       "    <tr style=\"text-align: right;\">\n",
       "      <th></th>\n",
       "      <th>sample_id</th>\n",
       "      <th>abdominal_pain</th>\n",
       "      <th>abnormal_menstruation</th>\n",
       "      <th>acidity</th>\n",
       "      <th>acute_liver_failure</th>\n",
       "      <th>altered_sensorium</th>\n",
       "      <th>anxiety</th>\n",
       "      <th>back_pain</th>\n",
       "      <th>belly_pain</th>\n",
       "      <th>blackheads</th>\n",
       "      <th>...</th>\n",
       "      <th>watering_from_eyes</th>\n",
       "      <th>weakness_in_limbs</th>\n",
       "      <th>weakness_of_one_body_side</th>\n",
       "      <th>weight_gain</th>\n",
       "      <th>weight_loss</th>\n",
       "      <th>yellow_crust_ooze</th>\n",
       "      <th>yellow_urine</th>\n",
       "      <th>yellowing_of_eyes</th>\n",
       "      <th>yellowish_skin</th>\n",
       "      <th>disease</th>\n",
       "    </tr>\n",
       "  </thead>\n",
       "  <tbody>\n",
       "    <tr>\n",
       "      <th>0</th>\n",
       "      <td>0</td>\n",
       "      <td>0.0</td>\n",
       "      <td>0.0</td>\n",
       "      <td>0.0</td>\n",
       "      <td>0.0</td>\n",
       "      <td>0.0</td>\n",
       "      <td>0.0</td>\n",
       "      <td>0.0</td>\n",
       "      <td>0.0</td>\n",
       "      <td>0.0</td>\n",
       "      <td>...</td>\n",
       "      <td>0.0</td>\n",
       "      <td>0.0</td>\n",
       "      <td>0.0</td>\n",
       "      <td>0.0</td>\n",
       "      <td>0.0</td>\n",
       "      <td>0.0</td>\n",
       "      <td>0.0</td>\n",
       "      <td>0.0</td>\n",
       "      <td>0.0</td>\n",
       "      <td>Fungal infection</td>\n",
       "    </tr>\n",
       "    <tr>\n",
       "      <th>1</th>\n",
       "      <td>1</td>\n",
       "      <td>0.0</td>\n",
       "      <td>0.0</td>\n",
       "      <td>0.0</td>\n",
       "      <td>0.0</td>\n",
       "      <td>0.0</td>\n",
       "      <td>0.0</td>\n",
       "      <td>0.0</td>\n",
       "      <td>0.0</td>\n",
       "      <td>0.0</td>\n",
       "      <td>...</td>\n",
       "      <td>0.0</td>\n",
       "      <td>0.0</td>\n",
       "      <td>0.0</td>\n",
       "      <td>0.0</td>\n",
       "      <td>0.0</td>\n",
       "      <td>0.0</td>\n",
       "      <td>0.0</td>\n",
       "      <td>0.0</td>\n",
       "      <td>0.0</td>\n",
       "      <td>Fungal infection</td>\n",
       "    </tr>\n",
       "    <tr>\n",
       "      <th>2</th>\n",
       "      <td>2</td>\n",
       "      <td>0.0</td>\n",
       "      <td>0.0</td>\n",
       "      <td>0.0</td>\n",
       "      <td>0.0</td>\n",
       "      <td>0.0</td>\n",
       "      <td>0.0</td>\n",
       "      <td>0.0</td>\n",
       "      <td>0.0</td>\n",
       "      <td>0.0</td>\n",
       "      <td>...</td>\n",
       "      <td>0.0</td>\n",
       "      <td>0.0</td>\n",
       "      <td>0.0</td>\n",
       "      <td>0.0</td>\n",
       "      <td>0.0</td>\n",
       "      <td>0.0</td>\n",
       "      <td>0.0</td>\n",
       "      <td>0.0</td>\n",
       "      <td>0.0</td>\n",
       "      <td>Fungal infection</td>\n",
       "    </tr>\n",
       "    <tr>\n",
       "      <th>3</th>\n",
       "      <td>3</td>\n",
       "      <td>0.0</td>\n",
       "      <td>0.0</td>\n",
       "      <td>0.0</td>\n",
       "      <td>0.0</td>\n",
       "      <td>0.0</td>\n",
       "      <td>0.0</td>\n",
       "      <td>0.0</td>\n",
       "      <td>0.0</td>\n",
       "      <td>0.0</td>\n",
       "      <td>...</td>\n",
       "      <td>0.0</td>\n",
       "      <td>0.0</td>\n",
       "      <td>0.0</td>\n",
       "      <td>0.0</td>\n",
       "      <td>0.0</td>\n",
       "      <td>0.0</td>\n",
       "      <td>0.0</td>\n",
       "      <td>0.0</td>\n",
       "      <td>0.0</td>\n",
       "      <td>Fungal infection</td>\n",
       "    </tr>\n",
       "    <tr>\n",
       "      <th>4</th>\n",
       "      <td>4</td>\n",
       "      <td>0.0</td>\n",
       "      <td>0.0</td>\n",
       "      <td>0.0</td>\n",
       "      <td>0.0</td>\n",
       "      <td>0.0</td>\n",
       "      <td>0.0</td>\n",
       "      <td>0.0</td>\n",
       "      <td>0.0</td>\n",
       "      <td>0.0</td>\n",
       "      <td>...</td>\n",
       "      <td>0.0</td>\n",
       "      <td>0.0</td>\n",
       "      <td>0.0</td>\n",
       "      <td>0.0</td>\n",
       "      <td>0.0</td>\n",
       "      <td>0.0</td>\n",
       "      <td>0.0</td>\n",
       "      <td>0.0</td>\n",
       "      <td>0.0</td>\n",
       "      <td>Fungal infection</td>\n",
       "    </tr>\n",
       "  </tbody>\n",
       "</table>\n",
       "<p>5 rows × 133 columns</p>\n",
       "</div>"
      ],
      "text/plain": [
       "   sample_id  abdominal_pain  abnormal_menstruation  acidity  \\\n",
       "0          0             0.0                    0.0      0.0   \n",
       "1          1             0.0                    0.0      0.0   \n",
       "2          2             0.0                    0.0      0.0   \n",
       "3          3             0.0                    0.0      0.0   \n",
       "4          4             0.0                    0.0      0.0   \n",
       "\n",
       "   acute_liver_failure  altered_sensorium  anxiety  back_pain  belly_pain  \\\n",
       "0                  0.0                0.0      0.0        0.0         0.0   \n",
       "1                  0.0                0.0      0.0        0.0         0.0   \n",
       "2                  0.0                0.0      0.0        0.0         0.0   \n",
       "3                  0.0                0.0      0.0        0.0         0.0   \n",
       "4                  0.0                0.0      0.0        0.0         0.0   \n",
       "\n",
       "   blackheads  ...  watering_from_eyes  weakness_in_limbs  \\\n",
       "0         0.0  ...                 0.0                0.0   \n",
       "1         0.0  ...                 0.0                0.0   \n",
       "2         0.0  ...                 0.0                0.0   \n",
       "3         0.0  ...                 0.0                0.0   \n",
       "4         0.0  ...                 0.0                0.0   \n",
       "\n",
       "   weakness_of_one_body_side  weight_gain  weight_loss  yellow_crust_ooze  \\\n",
       "0                        0.0          0.0          0.0                0.0   \n",
       "1                        0.0          0.0          0.0                0.0   \n",
       "2                        0.0          0.0          0.0                0.0   \n",
       "3                        0.0          0.0          0.0                0.0   \n",
       "4                        0.0          0.0          0.0                0.0   \n",
       "\n",
       "   yellow_urine  yellowing_of_eyes  yellowish_skin           disease  \n",
       "0           0.0                0.0             0.0  Fungal infection  \n",
       "1           0.0                0.0             0.0  Fungal infection  \n",
       "2           0.0                0.0             0.0  Fungal infection  \n",
       "3           0.0                0.0             0.0  Fungal infection  \n",
       "4           0.0                0.0             0.0  Fungal infection  \n",
       "\n",
       "[5 rows x 133 columns]"
      ]
     },
     "execution_count": 2,
     "metadata": {},
     "output_type": "execute_result"
    }
   ],
   "source": [
    "# Load the sample data to a dataframe\n",
    "df = pd.read_csv('../../Resources/weighted_samples_df.csv')\n",
    "df.head()"
   ]
  },
  {
   "cell_type": "code",
   "execution_count": 3,
   "id": "b9adc628",
   "metadata": {},
   "outputs": [
    {
     "name": "stdout",
     "output_type": "stream",
     "text": [
      "Shape:  (4920, 131) (4920,)\n"
     ]
    }
   ],
   "source": [
    "# Separate target from criteria\n",
    "y = df['disease']\n",
    "target_names = df['disease'].unique()\n",
    "\n",
    "X = df.drop(['disease', 'sample_id'], axis=1)\n",
    "print(\"Shape: \", X.shape, y.shape)"
   ]
  },
  {
   "cell_type": "code",
   "execution_count": 4,
   "id": "e77d8f44",
   "metadata": {},
   "outputs": [],
   "source": [
    "# Break data into testing and training sets\n",
    "X_train, X_test, y_train, y_test = train_test_split(X, y, stratify = y,random_state= 1)"
   ]
  },
  {
   "cell_type": "code",
   "execution_count": 5,
   "id": "3294f0a1",
   "metadata": {},
   "outputs": [
    {
     "name": "stdout",
     "output_type": "stream",
     "text": [
      "Linear Test Acc: 1.000\n"
     ]
    }
   ],
   "source": [
    "# Train and test linear model with OVR\n",
    "linear_model = SVC(kernel='linear')\n",
    "linear_model.fit(X_train, y_train)\n",
    "print('Linear Test Acc: %.3f' % linear_model.score(X_test, y_test))"
   ]
  },
  {
   "cell_type": "code",
   "execution_count": 6,
   "id": "fb983947",
   "metadata": {},
   "outputs": [
    {
     "name": "stdout",
     "output_type": "stream",
     "text": [
      "Linear Test Acc: 1.000\n"
     ]
    }
   ],
   "source": [
    "# Train and test linear model with OVO\n",
    "linear_model = SVC(kernel='linear', decision_function_shape='ovo')\n",
    "linear_model.fit(X_train, y_train)\n",
    "print('Linear Test Acc: %.3f' % linear_model.score(X_test, y_test))"
   ]
  },
  {
   "cell_type": "code",
   "execution_count": 7,
   "id": "e1ebcb90",
   "metadata": {},
   "outputs": [
    {
     "name": "stdout",
     "output_type": "stream",
     "text": [
      "Test Acc: 1.000\n"
     ]
    }
   ],
   "source": [
    "# Train and test RBF model with OVR\n",
    "rbf_model = SVC(kernel='rbf')\n",
    "rbf_model.fit(X_train, y_train)\n",
    "print('Test Acc: %.3f' % rbf_model.score(X_test, y_test))"
   ]
  },
  {
   "cell_type": "code",
   "execution_count": 8,
   "id": "43480507",
   "metadata": {},
   "outputs": [
    {
     "name": "stdout",
     "output_type": "stream",
     "text": [
      "Test Acc: 1.000\n"
     ]
    }
   ],
   "source": [
    "# Train and test RBF model with OVO\n",
    "rbf_model = SVC(kernel='rbf', decision_function_shape='ovo')\n",
    "rbf_model.fit(X_train, y_train)\n",
    "print('Test Acc: %.3f' % rbf_model.score(X_test, y_test))"
   ]
  },
  {
   "cell_type": "code",
   "execution_count": 9,
   "id": "6b48bccd",
   "metadata": {},
   "outputs": [
    {
     "name": "stdout",
     "output_type": "stream",
     "text": [
      "Poly Test Acc: 0.967\n"
     ]
    }
   ],
   "source": [
    "# Train and test Poly model with OVR\n",
    "poly_model = SVC(kernel='poly')\n",
    "poly_model.fit(X_train, y_train)\n",
    "print('Poly Test Acc: %.3f' % poly_model.score(X_test, y_test))"
   ]
  },
  {
   "cell_type": "code",
   "execution_count": 10,
   "id": "185346d5",
   "metadata": {},
   "outputs": [
    {
     "name": "stdout",
     "output_type": "stream",
     "text": [
      "Poly Test Acc: 0.967\n"
     ]
    }
   ],
   "source": [
    "# Train and test Poly model with OVO\n",
    "poly_model = SVC(kernel='poly', decision_function_shape='ovo')\n",
    "poly_model.fit(X_train, y_train)\n",
    "print('Poly Test Acc: %.3f' % poly_model.score(X_test, y_test))"
   ]
  },
  {
   "cell_type": "code",
   "execution_count": 11,
   "id": "80cb9dc3",
   "metadata": {},
   "outputs": [
    {
     "name": "stdout",
     "output_type": "stream",
     "text": [
      "Sigmoid Test Acc: 1.000\n"
     ]
    }
   ],
   "source": [
    "# Train and test Sigmoid model with OVR\n",
    "sig_model = SVC(kernel='sigmoid')\n",
    "sig_model.fit(X_train, y_train)\n",
    "print('Sigmoid Test Acc: %.3f' % sig_model.score(X_test, y_test))"
   ]
  },
  {
   "cell_type": "code",
   "execution_count": 12,
   "id": "989629fa",
   "metadata": {},
   "outputs": [
    {
     "name": "stdout",
     "output_type": "stream",
     "text": [
      "Sigmoid Test Acc: 1.000\n"
     ]
    }
   ],
   "source": [
    "# Train and test Sigmoid model with OVO\n",
    "sig_model = SVC(kernel='sigmoid', decision_function_shape='ovo')\n",
    "sig_model.fit(X_train, y_train)\n",
    "print('Sigmoid Test Acc: %.3f' % sig_model.score(X_test, y_test))"
   ]
  }
 ],
 "metadata": {
  "kernelspec": {
   "display_name": "PythonData38",
   "language": "python",
   "name": "pythondata38"
  },
  "language_info": {
   "codemirror_mode": {
    "name": "ipython",
    "version": 3
   },
   "file_extension": ".py",
   "mimetype": "text/x-python",
   "name": "python",
   "nbconvert_exporter": "python",
   "pygments_lexer": "ipython3",
   "version": "3.9.12"
  }
 },
 "nbformat": 4,
 "nbformat_minor": 5
}
