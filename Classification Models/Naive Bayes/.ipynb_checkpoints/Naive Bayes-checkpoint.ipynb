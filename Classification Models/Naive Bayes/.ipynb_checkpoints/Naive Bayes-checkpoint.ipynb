{
 "cells": [
  {
   "cell_type": "code",
   "execution_count": null,
   "id": "43796e99",
   "metadata": {},
   "outputs": [],
   "source": [
    "#import needed packages\n",
    "import matplotlib.pyplot as plt\n",
    "import pandas as pd\n",
    "from sklearn.model_selection import train_test_split\n",
    "from sklearn.metrics import classification_report"
   ]
  },
  {
   "cell_type": "code",
   "execution_count": null,
   "id": "7a9b3779",
   "metadata": {},
   "outputs": [],
   "source": [
    "#load in csv file\n",
    "df = pd.read_csv('../../Resources/weighted_samples_df.csv', index_col = False)"
   ]
  },
  {
   "cell_type": "code",
   "execution_count": null,
   "id": "64f201a5",
   "metadata": {},
   "outputs": [],
   "source": [
    "df.head()"
   ]
  },
  {
   "cell_type": "code",
   "execution_count": null,
   "id": "c4041c83",
   "metadata": {},
   "outputs": [],
   "source": [
    "#defining features\n",
    "features = df.columns\n",
    "print(features)"
   ]
  },
  {
   "cell_type": "code",
   "execution_count": null,
   "id": "36f10dcf",
   "metadata": {},
   "outputs": [],
   "source": [
    "#describing features\n",
    "df.describe()"
   ]
  },
  {
   "cell_type": "code",
   "execution_count": null,
   "id": "b7532163",
   "metadata": {},
   "outputs": [],
   "source": [
    "#printing the shape of the dataset\n",
    "print(df.shape)"
   ]
  },
  {
   "cell_type": "code",
   "execution_count": null,
   "id": "12c550c4",
   "metadata": {},
   "outputs": [],
   "source": [
    "#splitting data in order to train/test it\n",
    "data = df.drop(['disease', 'sample_id'], axis=1)\n",
    "X = data\n",
    "y = df['disease']"
   ]
  },
  {
   "cell_type": "code",
   "execution_count": null,
   "id": "eace8a54",
   "metadata": {},
   "outputs": [],
   "source": [
    "#training and testing data\n",
    "X_train, X_test, y_train, y_test = train_test_split(X, y, stratify= y, test_size=0.2, random_state=0)"
   ]
  },
  {
   "cell_type": "code",
   "execution_count": null,
   "id": "169ec625",
   "metadata": {},
   "outputs": [],
   "source": [
    "print('X_train shape:',X_train.shape)\n",
    "print('X_test shape:',X_test.shape)\n",
    "print('y_train shape:',y_train.shape)\n",
    "print('y_test shape:',y_test.shape)"
   ]
  },
  {
   "cell_type": "code",
   "execution_count": null,
   "id": "111df6c9",
   "metadata": {},
   "outputs": [],
   "source": [
    "#feature scaling\n",
    "from sklearn.preprocessing import StandardScaler\n",
    "stdscaler = StandardScaler()\n",
    "X_train = stdscaler.fit_transform(X_train)\n",
    "X_test = stdscaler.transform(X_test)"
   ]
  },
  {
   "cell_type": "code",
   "execution_count": null,
   "id": "0c0a9e9a",
   "metadata": {},
   "outputs": [],
   "source": [
    "#naive bayes model\n",
    "from sklearn.naive_bayes import GaussianNB\n",
    "clf = GaussianNB()\n",
    "clf.fit(X_train,y_train)"
   ]
  },
  {
   "cell_type": "code",
   "execution_count": null,
   "id": "0cf21248",
   "metadata": {},
   "outputs": [],
   "source": [
    "#predicting the result\n",
    "y_pred = clf.predict(X_test)\n",
    "print(y_pred)"
   ]
  },
  {
   "cell_type": "code",
   "execution_count": null,
   "id": "3b0bb695",
   "metadata": {},
   "outputs": [],
   "source": [
    "#confusion matrix\n",
    "from sklearn.metrics import confusion_matrix,accuracy_score\n",
    "cm = confusion_matrix(y_test, y_pred)\n",
    "print(cm)\n",
    "#accuracy score of the model\n",
    "print('Accuracy score :',accuracy_score(y_test,y_pred)*100)\n"
   ]
  },
  {
   "cell_type": "code",
   "execution_count": null,
   "id": "40621ce3",
   "metadata": {},
   "outputs": [],
   "source": [
    "#plotting the confusion matrix\n",
    "import seaborn as sns\n",
    "plt.figure(figsize=(25,25))\n",
    "plt.title('Confusion matrix')\n",
    "sns.heatmap(cm,annot=True,fmt='d',cmap='inferno_r')"
   ]
  },
  {
   "cell_type": "code",
   "execution_count": null,
   "id": "8c667324",
   "metadata": {},
   "outputs": [],
   "source": []
  },
  {
   "cell_type": "code",
   "execution_count": null,
   "id": "220f4d0d",
   "metadata": {},
   "outputs": [],
   "source": []
  }
 ],
 "metadata": {
  "kernelspec": {
   "display_name": "PythonData38",
   "language": "python",
   "name": "pythondata38"
  },
  "language_info": {
   "codemirror_mode": {
    "name": "ipython",
    "version": 3
   },
   "file_extension": ".py",
   "mimetype": "text/x-python",
   "name": "python",
   "nbconvert_exporter": "python",
   "pygments_lexer": "ipython3",
   "version": "3.9.12"
  }
 },
 "nbformat": 4,
 "nbformat_minor": 5
}
