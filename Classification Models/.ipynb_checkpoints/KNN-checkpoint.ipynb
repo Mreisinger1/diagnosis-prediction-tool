{
 "cells": [
  {
   "cell_type": "code",
   "execution_count": 19,
   "id": "1df71f4e",
   "metadata": {},
   "outputs": [],
   "source": [
    "import matplotlib.pyplot as plt\n",
    "import pandas as pd\n",
    "from sklearn.model_selection import train_test_split\n",
    "from sklearn.metrics import confusion_matrix, classification_report\n",
    "from sklearn import datasets\n",
    "from sklearn.neighbors import KNeighborsClassifier"
   ]
  },
  {
   "cell_type": "code",
   "execution_count": 21,
   "id": "48da3a39",
   "metadata": {},
   "outputs": [],
   "source": [
    "#uploading dataframe\n",
    "df = pd.read_csv('../Resources/weighted_samples_df.csv', index_col = False)"
   ]
  },
  {
   "cell_type": "code",
   "execution_count": 22,
   "id": "fc2ffda2",
   "metadata": {},
   "outputs": [
    {
     "name": "stdout",
     "output_type": "stream",
     "text": [
      "Index(['sample_id', 'abdominal_pain', 'abnormal_menstruation', 'acidity',\n",
      "       'acute_liver_failure', 'altered_sensorium', 'anxiety', 'back_pain',\n",
      "       'belly_pain', 'blackheads',\n",
      "       ...\n",
      "       'watering_from_eyes', 'weakness_in_limbs', 'weakness_of_one_body_side',\n",
      "       'weight_gain', 'weight_loss', 'yellow_crust_ooze', 'yellow_urine',\n",
      "       'yellowing_of_eyes', 'yellowish_skin', 'disease'],\n",
      "      dtype='object', length=133)\n"
     ]
    }
   ],
   "source": [
    "features = df.columns\n",
    "print(features)"
   ]
  },
  {
   "cell_type": "code",
   "execution_count": 23,
   "id": "3bc70803",
   "metadata": {},
   "outputs": [
    {
     "data": {
      "text/html": [
       "<div>\n",
       "<style scoped>\n",
       "    .dataframe tbody tr th:only-of-type {\n",
       "        vertical-align: middle;\n",
       "    }\n",
       "\n",
       "    .dataframe tbody tr th {\n",
       "        vertical-align: top;\n",
       "    }\n",
       "\n",
       "    .dataframe thead th {\n",
       "        text-align: right;\n",
       "    }\n",
       "</style>\n",
       "<table border=\"1\" class=\"dataframe\">\n",
       "  <thead>\n",
       "    <tr style=\"text-align: right;\">\n",
       "      <th></th>\n",
       "      <th>abdominal_pain</th>\n",
       "      <th>abnormal_menstruation</th>\n",
       "      <th>acidity</th>\n",
       "      <th>acute_liver_failure</th>\n",
       "      <th>altered_sensorium</th>\n",
       "      <th>anxiety</th>\n",
       "      <th>back_pain</th>\n",
       "      <th>belly_pain</th>\n",
       "      <th>blackheads</th>\n",
       "      <th>bladder_discomfort</th>\n",
       "      <th>...</th>\n",
       "      <th>vomiting</th>\n",
       "      <th>watering_from_eyes</th>\n",
       "      <th>weakness_in_limbs</th>\n",
       "      <th>weakness_of_one_body_side</th>\n",
       "      <th>weight_gain</th>\n",
       "      <th>weight_loss</th>\n",
       "      <th>yellow_crust_ooze</th>\n",
       "      <th>yellow_urine</th>\n",
       "      <th>yellowing_of_eyes</th>\n",
       "      <th>yellowish_skin</th>\n",
       "    </tr>\n",
       "  </thead>\n",
       "  <tbody>\n",
       "    <tr>\n",
       "      <th>0</th>\n",
       "      <td>0.0</td>\n",
       "      <td>0.0</td>\n",
       "      <td>0.0</td>\n",
       "      <td>0.0</td>\n",
       "      <td>0.0</td>\n",
       "      <td>0.0</td>\n",
       "      <td>0.0</td>\n",
       "      <td>0.0</td>\n",
       "      <td>0.0</td>\n",
       "      <td>0.0</td>\n",
       "      <td>...</td>\n",
       "      <td>0.0</td>\n",
       "      <td>0.0</td>\n",
       "      <td>0.0</td>\n",
       "      <td>0.0</td>\n",
       "      <td>0.0</td>\n",
       "      <td>0.0</td>\n",
       "      <td>0.0</td>\n",
       "      <td>0.0</td>\n",
       "      <td>0.0</td>\n",
       "      <td>0.0</td>\n",
       "    </tr>\n",
       "    <tr>\n",
       "      <th>1</th>\n",
       "      <td>0.0</td>\n",
       "      <td>0.0</td>\n",
       "      <td>0.0</td>\n",
       "      <td>0.0</td>\n",
       "      <td>0.0</td>\n",
       "      <td>0.0</td>\n",
       "      <td>0.0</td>\n",
       "      <td>0.0</td>\n",
       "      <td>0.0</td>\n",
       "      <td>0.0</td>\n",
       "      <td>...</td>\n",
       "      <td>0.0</td>\n",
       "      <td>0.0</td>\n",
       "      <td>0.0</td>\n",
       "      <td>0.0</td>\n",
       "      <td>0.0</td>\n",
       "      <td>0.0</td>\n",
       "      <td>0.0</td>\n",
       "      <td>0.0</td>\n",
       "      <td>0.0</td>\n",
       "      <td>0.0</td>\n",
       "    </tr>\n",
       "    <tr>\n",
       "      <th>2</th>\n",
       "      <td>0.0</td>\n",
       "      <td>0.0</td>\n",
       "      <td>0.0</td>\n",
       "      <td>0.0</td>\n",
       "      <td>0.0</td>\n",
       "      <td>0.0</td>\n",
       "      <td>0.0</td>\n",
       "      <td>0.0</td>\n",
       "      <td>0.0</td>\n",
       "      <td>0.0</td>\n",
       "      <td>...</td>\n",
       "      <td>0.0</td>\n",
       "      <td>0.0</td>\n",
       "      <td>0.0</td>\n",
       "      <td>0.0</td>\n",
       "      <td>0.0</td>\n",
       "      <td>0.0</td>\n",
       "      <td>0.0</td>\n",
       "      <td>0.0</td>\n",
       "      <td>0.0</td>\n",
       "      <td>0.0</td>\n",
       "    </tr>\n",
       "    <tr>\n",
       "      <th>3</th>\n",
       "      <td>0.0</td>\n",
       "      <td>0.0</td>\n",
       "      <td>0.0</td>\n",
       "      <td>0.0</td>\n",
       "      <td>0.0</td>\n",
       "      <td>0.0</td>\n",
       "      <td>0.0</td>\n",
       "      <td>0.0</td>\n",
       "      <td>0.0</td>\n",
       "      <td>0.0</td>\n",
       "      <td>...</td>\n",
       "      <td>0.0</td>\n",
       "      <td>0.0</td>\n",
       "      <td>0.0</td>\n",
       "      <td>0.0</td>\n",
       "      <td>0.0</td>\n",
       "      <td>0.0</td>\n",
       "      <td>0.0</td>\n",
       "      <td>0.0</td>\n",
       "      <td>0.0</td>\n",
       "      <td>0.0</td>\n",
       "    </tr>\n",
       "    <tr>\n",
       "      <th>4</th>\n",
       "      <td>0.0</td>\n",
       "      <td>0.0</td>\n",
       "      <td>0.0</td>\n",
       "      <td>0.0</td>\n",
       "      <td>0.0</td>\n",
       "      <td>0.0</td>\n",
       "      <td>0.0</td>\n",
       "      <td>0.0</td>\n",
       "      <td>0.0</td>\n",
       "      <td>0.0</td>\n",
       "      <td>...</td>\n",
       "      <td>0.0</td>\n",
       "      <td>0.0</td>\n",
       "      <td>0.0</td>\n",
       "      <td>0.0</td>\n",
       "      <td>0.0</td>\n",
       "      <td>0.0</td>\n",
       "      <td>0.0</td>\n",
       "      <td>0.0</td>\n",
       "      <td>0.0</td>\n",
       "      <td>0.0</td>\n",
       "    </tr>\n",
       "  </tbody>\n",
       "</table>\n",
       "<p>5 rows × 131 columns</p>\n",
       "</div>"
      ],
      "text/plain": [
       "   abdominal_pain  abnormal_menstruation  acidity  acute_liver_failure  \\\n",
       "0             0.0                    0.0      0.0                  0.0   \n",
       "1             0.0                    0.0      0.0                  0.0   \n",
       "2             0.0                    0.0      0.0                  0.0   \n",
       "3             0.0                    0.0      0.0                  0.0   \n",
       "4             0.0                    0.0      0.0                  0.0   \n",
       "\n",
       "   altered_sensorium  anxiety  back_pain  belly_pain  blackheads  \\\n",
       "0                0.0      0.0        0.0         0.0         0.0   \n",
       "1                0.0      0.0        0.0         0.0         0.0   \n",
       "2                0.0      0.0        0.0         0.0         0.0   \n",
       "3                0.0      0.0        0.0         0.0         0.0   \n",
       "4                0.0      0.0        0.0         0.0         0.0   \n",
       "\n",
       "   bladder_discomfort  ...  vomiting  watering_from_eyes  weakness_in_limbs  \\\n",
       "0                 0.0  ...       0.0                 0.0                0.0   \n",
       "1                 0.0  ...       0.0                 0.0                0.0   \n",
       "2                 0.0  ...       0.0                 0.0                0.0   \n",
       "3                 0.0  ...       0.0                 0.0                0.0   \n",
       "4                 0.0  ...       0.0                 0.0                0.0   \n",
       "\n",
       "   weakness_of_one_body_side  weight_gain  weight_loss  yellow_crust_ooze  \\\n",
       "0                        0.0          0.0          0.0                0.0   \n",
       "1                        0.0          0.0          0.0                0.0   \n",
       "2                        0.0          0.0          0.0                0.0   \n",
       "3                        0.0          0.0          0.0                0.0   \n",
       "4                        0.0          0.0          0.0                0.0   \n",
       "\n",
       "   yellow_urine  yellowing_of_eyes  yellowish_skin  \n",
       "0           0.0                0.0             0.0  \n",
       "1           0.0                0.0             0.0  \n",
       "2           0.0                0.0             0.0  \n",
       "3           0.0                0.0             0.0  \n",
       "4           0.0                0.0             0.0  \n",
       "\n",
       "[5 rows x 131 columns]"
      ]
     },
     "execution_count": 23,
     "metadata": {},
     "output_type": "execute_result"
    }
   ],
   "source": [
    "# drop unneeded columns\n",
    "data = df.drop(['disease', 'sample_id'], axis=1)\n",
    "data.head()"
   ]
  },
  {
   "cell_type": "code",
   "execution_count": 24,
   "id": "f2c91e20",
   "metadata": {},
   "outputs": [
    {
     "name": "stdout",
     "output_type": "stream",
     "text": [
      "shape:  (4920, 131) (4920,)\n"
     ]
    }
   ],
   "source": [
    "X = data\n",
    "X = X.values\n",
    "y = df['disease']\n",
    "y = y.values\n",
    "\n",
    "print(\"shape: \", X.shape, y.shape)"
   ]
  },
  {
   "cell_type": "code",
   "execution_count": 25,
   "id": "6417823d",
   "metadata": {},
   "outputs": [],
   "source": [
    "X_train, X_test, y_train, y_test = train_test_split(X, y, stratify= y, test_size=0.2, random_state=0)"
   ]
  },
  {
   "cell_type": "code",
   "execution_count": 36,
   "id": "9fd62594",
   "metadata": {},
   "outputs": [
    {
     "data": {
      "text/plain": [
       "StandardScaler()"
      ]
     },
     "execution_count": 36,
     "metadata": {},
     "output_type": "execute_result"
    }
   ],
   "source": [
    "from sklearn.preprocessing import StandardScaler\n",
    "\n",
    "# create standard scaler model to fit to training data\n",
    "\n",
    "X_scaler = StandardScaler()\n",
    "X_scaler.fit(X_train)"
   ]
  },
  {
   "cell_type": "code",
   "execution_count": 37,
   "id": "965ad085",
   "metadata": {},
   "outputs": [],
   "source": [
    "# transform training and testing data using X_scaler and y_scaler \n",
    "X_train_scaled = X_scaler.transform(X_train)\n",
    "X_test_scaled = X_scaler.transform(X_test)"
   ]
  },
  {
   "cell_type": "code",
   "execution_count": 38,
   "id": "3b929a5c",
   "metadata": {},
   "outputs": [
    {
     "data": {
      "text/plain": [
       "KNeighborsClassifier()"
      ]
     },
     "execution_count": 38,
     "metadata": {},
     "output_type": "execute_result"
    }
   ],
   "source": [
    "classifier = KNeighborsClassifier()\n",
    "classifier.fit(X_train, y_train)"
   ]
  },
  {
   "cell_type": "code",
   "execution_count": 54,
   "id": "9754eb14",
   "metadata": {},
   "outputs": [],
   "source": [
    "y_pred = classifier.predict(X_test)"
   ]
  },
  {
   "cell_type": "code",
   "execution_count": 56,
   "id": "1c3b9db4",
   "metadata": {},
   "outputs": [
    {
     "name": "stdout",
     "output_type": "stream",
     "text": [
      "100.0\n"
     ]
    }
   ],
   "source": [
    "acc =  classifier.score(X_test, y_test)\n",
    "print((acc)*100)"
   ]
  },
  {
   "cell_type": "code",
   "execution_count": 53,
   "id": "44bf7e04",
   "metadata": {},
   "outputs": [
    {
     "name": "stdout",
     "output_type": "stream",
     "text": [
      "k: 1, Train/Test Score: 1.000/1.000\n",
      "k: 3, Train/Test Score: 1.000/1.000\n",
      "k: 5, Train/Test Score: 1.000/1.000\n",
      "k: 7, Train/Test Score: 1.000/1.000\n",
      "k: 9, Train/Test Score: 1.000/1.000\n",
      "k: 11, Train/Test Score: 0.999/0.999\n",
      "k: 13, Train/Test Score: 0.999/0.999\n",
      "k: 15, Train/Test Score: 0.999/0.999\n",
      "k: 17, Train/Test Score: 0.999/0.999\n",
      "k: 19, Train/Test Score: 0.999/0.999\n",
      "k: 21, Train/Test Score: 0.999/0.999\n",
      "k: 23, Train/Test Score: 0.999/0.999\n",
      "k: 25, Train/Test Score: 0.999/0.999\n",
      "k: 27, Train/Test Score: 0.999/0.999\n",
      "k: 29, Train/Test Score: 0.999/0.999\n",
      "k: 31, Train/Test Score: 0.999/0.999\n",
      "k: 33, Train/Test Score: 0.999/0.999\n",
      "k: 35, Train/Test Score: 0.999/0.999\n",
      "k: 37, Train/Test Score: 0.999/0.999\n",
      "k: 39, Train/Test Score: 0.999/0.999\n"
     ]
    },
    {
     "data": {
      "image/png": "[encoded data removed]",
      "text/plain": [
       "<Figure size 432x288 with 1 Axes>"
      ]
     },
     "metadata": {
      "needs_background": "light"
     },
     "output_type": "display_data"
    }
   ],
   "source": [
    "# loop through different k values to find the highest accuracy\n",
    "train_scores = []\n",
    "test_scores = []\n",
    "for k in range(1, 40, 2):\n",
    "    knn = KNeighborsClassifier(n_neighbors=k)\n",
    "    knn.fit(X_train_scaled, y_train)\n",
    "    train_score = knn.score(X_train_scaled, y_train)\n",
    "    test_score = knn.score(X_test_scaled, y_test)\n",
    "    train_scores.append(train_score)\n",
    "    test_scores.append(test_score)\n",
    "    print((f\"k: {k}, Train/Test Score: {train_score:.3f}/{test_score:.3f}\"))\n",
    "    \n",
    "    \n",
    "plt.plot(range(1, 40, 2), train_scores, marker='o')\n",
    "plt.plot(range(1, 40, 2), test_scores, marker=\"x\")\n",
    "plt.xlabel(\"k neighbors\")\n",
    "plt.ylabel(\"Testing accuracy score\")\n",
    "plt.show()"
   ]
  },
  {
   "cell_type": "code",
   "execution_count": 31,
   "id": "8e2bb419",
   "metadata": {},
   "outputs": [
    {
     "name": "stdout",
     "output_type": "stream",
     "text": [
      "Accuracy of K-NN classifier on training set: 1.00\n",
      "Accuracy of K-NN classifier on test set: 1.00\n"
     ]
    }
   ],
   "source": [
    "#Checking performance on the training set\n",
    "print('Accuracy of K-NN classifier on training set: {:.2f}'\n",
    "     .format(knn.score(X_train_scaled, y_train)))\n",
    "#Checking performance on the test set\n",
    "print('Accuracy of K-NN classifier on test set: {:.2f}'\n",
    "     .format(knn.score(X_test_scaled, y_test)))"
   ]
  },
  {
   "cell_type": "code",
   "execution_count": 57,
   "id": "16eee082",
   "metadata": {},
   "outputs": [],
   "source": [
    "y_true = y_test\n",
    "y_pred = knn.predict(X_test_scaled)"
   ]
  },
  {
   "cell_type": "code",
   "execution_count": 58,
   "id": "b3f7bb47",
   "metadata": {},
   "outputs": [
    {
     "name": "stdout",
     "output_type": "stream",
     "text": [
      "                                         precision    recall  f1-score   support\n",
      "\n",
      "(vertigo) Paroymsal  Positional Vertigo       1.00      1.00      1.00        24\n",
      "                                   AIDS       1.00      1.00      1.00        24\n",
      "                                   Acne       1.00      1.00      1.00        24\n",
      "                    Alcoholic hepatitis       1.00      1.00      1.00        24\n",
      "                                Allergy       1.00      1.00      1.00        24\n",
      "                              Arthritis       1.00      1.00      1.00        24\n",
      "                       Bronchial Asthma       1.00      1.00      1.00        24\n",
      "                   Cervical spondylosis       1.00      1.00      1.00        24\n",
      "                            Chicken pox       1.00      1.00      1.00        24\n",
      "                    Chronic cholestasis       1.00      1.00      1.00        24\n",
      "                            Common Cold       1.00      1.00      1.00        24\n",
      "                                 Dengue       1.00      1.00      1.00        24\n",
      "                               Diabetes       1.00      1.00      1.00        24\n",
      "           Dimorphic hemorrhoids(piles)       1.00      1.00      1.00        24\n",
      "                          Drug Reaction       1.00      1.00      1.00        24\n",
      "                       Fungal infection       1.00      1.00      1.00        24\n",
      "                                   GERD       1.00      1.00      1.00        24\n",
      "                        Gastroenteritis       1.00      1.00      1.00        24\n",
      "                           Heart attack       1.00      1.00      1.00        24\n",
      "                            Hepatitis B       1.00      1.00      1.00        24\n",
      "                            Hepatitis C       1.00      0.96      0.98        24\n",
      "                            Hepatitis D       0.96      1.00      0.98        24\n",
      "                            Hepatitis E       1.00      1.00      1.00        24\n",
      "                           Hypertension       1.00      1.00      1.00        24\n",
      "                        Hyperthyroidism       1.00      1.00      1.00        24\n",
      "                           Hypoglycemia       1.00      1.00      1.00        24\n",
      "                         Hypothyroidism       1.00      1.00      1.00        24\n",
      "                               Impetigo       1.00      1.00      1.00        24\n",
      "                               Jaundice       1.00      1.00      1.00        24\n",
      "                                Malaria       1.00      1.00      1.00        24\n",
      "                               Migraine       1.00      1.00      1.00        24\n",
      "                        Osteoarthristis       1.00      1.00      1.00        24\n",
      "           Paralysis (brain hemorrhage)       1.00      1.00      1.00        24\n",
      "                    Peptic ulcer diseae       1.00      1.00      1.00        24\n",
      "                              Pneumonia       1.00      1.00      1.00        24\n",
      "                              Psoriasis       1.00      1.00      1.00        24\n",
      "                           Tuberculosis       1.00      1.00      1.00        24\n",
      "                                Typhoid       1.00      1.00      1.00        24\n",
      "                Urinary tract infection       1.00      1.00      1.00        24\n",
      "                         Varicose veins       1.00      1.00      1.00        24\n",
      "                            hepatitis A       1.00      1.00      1.00        24\n",
      "\n",
      "                               accuracy                           1.00       984\n",
      "                              macro avg       1.00      1.00      1.00       984\n",
      "                           weighted avg       1.00      1.00      1.00       984\n",
      "\n"
     ]
    }
   ],
   "source": [
    "print(classification_report(y_true, y_pred))"
   ]
  },
  {
   "cell_type": "code",
   "execution_count": 59,
   "id": "43ee2d25",
   "metadata": {},
   "outputs": [],
   "source": [
    "from sklearn.metrics import f1_score\n",
    "\n",
    "f1s = []\n",
    "\n",
    "# Calculating f1 score for K values between 1 and 40\n",
    "for i in range(1, 40):\n",
    "    knn = KNeighborsClassifier(n_neighbors=i)\n",
    "    knn.fit(X_train, y_train)\n",
    "    pred_i = knn.predict(X_test)\n",
    "    # using average='weighted' to calculate a weighted average \n",
    "    f1s.append(f1_score(y_test, pred_i, average='weighted'))"
   ]
  },
  {
   "cell_type": "code",
   "execution_count": 60,
   "id": "0c4e04bd",
   "metadata": {},
   "outputs": [
    {
     "data": {
      "text/plain": [
       "Text(0, 0.5, 'F1 Score')"
      ]
     },
     "execution_count": 60,
     "metadata": {},
     "output_type": "execute_result"
    },
    {
     "data": {
      "image/png": "[encoded data removed]",
      "text/plain": [
       "<Figure size 864x432 with 1 Axes>"
      ]
     },
     "metadata": {
      "needs_background": "light"
     },
     "output_type": "display_data"
    }
   ],
   "source": [
    "plt.figure(figsize=(12, 6))\n",
    "plt.plot(range(1, 40), f1s, color='blue', linestyle='dashed', marker='o',\n",
    "         markerfacecolor='orange', markersize=10)\n",
    "plt.title('F1 Score K Value')\n",
    "plt.xlabel('K Value')\n",
    "plt.ylabel('F1 Score')"
   ]
  },
  {
   "cell_type": "code",
   "execution_count": 61,
   "id": "0cbcad5e",
   "metadata": {},
   "outputs": [
    {
     "name": "stdout",
     "output_type": "stream",
     "text": [
      "                                         precision    recall  f1-score   support\n",
      "\n",
      "(vertigo) Paroymsal  Positional Vertigo       1.00      1.00      1.00        24\n",
      "                                   AIDS       1.00      1.00      1.00        24\n",
      "                                   Acne       1.00      1.00      1.00        24\n",
      "                    Alcoholic hepatitis       1.00      1.00      1.00        24\n",
      "                                Allergy       1.00      1.00      1.00        24\n",
      "                              Arthritis       1.00      1.00      1.00        24\n",
      "                       Bronchial Asthma       1.00      1.00      1.00        24\n",
      "                   Cervical spondylosis       1.00      1.00      1.00        24\n",
      "                            Chicken pox       1.00      1.00      1.00        24\n",
      "                    Chronic cholestasis       1.00      1.00      1.00        24\n",
      "                            Common Cold       1.00      1.00      1.00        24\n",
      "                                 Dengue       1.00      1.00      1.00        24\n",
      "                               Diabetes       1.00      1.00      1.00        24\n",
      "           Dimorphic hemorrhoids(piles)       1.00      1.00      1.00        24\n",
      "                          Drug Reaction       1.00      1.00      1.00        24\n",
      "                       Fungal infection       1.00      1.00      1.00        24\n",
      "                                   GERD       1.00      1.00      1.00        24\n",
      "                        Gastroenteritis       1.00      1.00      1.00        24\n",
      "                           Heart attack       1.00      1.00      1.00        24\n",
      "                            Hepatitis B       1.00      1.00      1.00        24\n",
      "                            Hepatitis C       1.00      1.00      1.00        24\n",
      "                            Hepatitis D       1.00      1.00      1.00        24\n",
      "                            Hepatitis E       1.00      1.00      1.00        24\n",
      "                           Hypertension       1.00      1.00      1.00        24\n",
      "                        Hyperthyroidism       1.00      1.00      1.00        24\n",
      "                           Hypoglycemia       1.00      1.00      1.00        24\n",
      "                         Hypothyroidism       1.00      1.00      1.00        24\n",
      "                               Impetigo       1.00      1.00      1.00        24\n",
      "                               Jaundice       1.00      1.00      1.00        24\n",
      "                                Malaria       1.00      1.00      1.00        24\n",
      "                               Migraine       1.00      1.00      1.00        24\n",
      "                        Osteoarthristis       1.00      1.00      1.00        24\n",
      "           Paralysis (brain hemorrhage)       1.00      1.00      1.00        24\n",
      "                    Peptic ulcer diseae       1.00      1.00      1.00        24\n",
      "                              Pneumonia       1.00      1.00      1.00        24\n",
      "                              Psoriasis       1.00      1.00      1.00        24\n",
      "                           Tuberculosis       1.00      1.00      1.00        24\n",
      "                                Typhoid       1.00      1.00      1.00        24\n",
      "                Urinary tract infection       1.00      1.00      1.00        24\n",
      "                         Varicose veins       1.00      1.00      1.00        24\n",
      "                            hepatitis A       1.00      1.00      1.00        24\n",
      "\n",
      "                               accuracy                           1.00       984\n",
      "                              macro avg       1.00      1.00      1.00       984\n",
      "                           weighted avg       1.00      1.00      1.00       984\n",
      "\n"
     ]
    }
   ],
   "source": [
    "classifier10 = KNeighborsClassifier(n_neighbors=10)\n",
    "classifier10.fit(X_train, y_train)\n",
    "y_pred10 = classifier10.predict(X_test)\n",
    "print(classification_report(y_test, y_pred10))"
   ]
  },
  {
   "cell_type": "code",
   "execution_count": null,
   "id": "dd2d3036",
   "metadata": {},
   "outputs": [],
   "source": []
  },
  {
   "cell_type": "code",
   "execution_count": null,
   "id": "fa73cbd1",
   "metadata": {},
   "outputs": [],
   "source": []
  }
 ],
 "metadata": {
  "kernelspec": {
   "display_name": "PythonData38",
   "language": "python",
   "name": "pythondata38"
  },
  "language_info": {
   "codemirror_mode": {
    "name": "ipython",
    "version": 3
   },
   "file_extension": ".py",
   "mimetype": "text/x-python",
   "name": "python",
   "nbconvert_exporter": "python",
   "pygments_lexer": "ipython3",
   "version": "3.9.12"
  }
 },
 "nbformat": 4,
 "nbformat_minor": 5
}
