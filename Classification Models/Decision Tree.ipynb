{
 "cells": [
  {
   "cell_type": "markdown",
   "id": "199f875d",
   "metadata": {},
   "source": [
    "Decision Tree- systematic approach. Poses a set of questions to the dataset related to its attributes/features and can be visualized on a binary tree."
   ]
  },
  {
   "cell_type": "code",
   "execution_count": null,
   "id": "7e72471e",
   "metadata": {},
   "outputs": [],
   "source": [
    "import matplotlib.pyplot as plt\n",
    "import pandas as pd\n",
    "from sklearn.model_selection import train_test_split\n",
    "from sklearn.metrics import confusion_matrix, classification_report\n",
    "from sklearn import tree"
   ]
  },
  {
   "cell_type": "code",
   "execution_count": null,
   "id": "c6ff6947",
   "metadata": {},
   "outputs": [],
   "source": [
    "df = pd.read_csv('../Resources/dataset.csv')"
   ]
  },
  {
   "cell_type": "code",
   "execution_count": null,
   "id": "de525160",
   "metadata": {},
   "outputs": [],
   "source": [
    "df.head()"
   ]
  },
  {
   "cell_type": "code",
   "execution_count": null,
   "id": "971ca3d3",
   "metadata": {},
   "outputs": [],
   "source": [
    "print (\"Dataset Length: \", len(df))\n",
    "print (\"Dataset Shape: \", df.shape)\n",
    "      \n"
   ]
  },
  {
   "cell_type": "code",
   "execution_count": null,
   "id": "0097798e",
   "metadata": {},
   "outputs": [],
   "source": [
    "print (\"Dataset: \", df.head())"
   ]
  },
  {
   "cell_type": "code",
   "execution_count": null,
   "id": "f293c4d4",
   "metadata": {},
   "outputs": [],
   "source": []
  }
 ],
 "metadata": {
  "kernelspec": {
   "display_name": "PythonData38",
   "language": "python",
   "name": "pythondata38"
  },
  "language_info": {
   "codemirror_mode": {
    "name": "ipython",
    "version": 3
   },
   "file_extension": ".py",
   "mimetype": "text/x-python",
   "name": "python",
   "nbconvert_exporter": "python",
   "pygments_lexer": "ipython3",
   "version": "3.9.12"
  }
 },
 "nbformat": 4,
 "nbformat_minor": 5
}
