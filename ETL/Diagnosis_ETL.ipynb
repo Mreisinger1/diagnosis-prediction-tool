{
 "cells": [
  {
   "cell_type": "markdown",
   "id": "4f6b8f9f",
   "metadata": {},
   "source": [
    "# Diagnosis Prediction Tool: ETL Notebook"
   ]
  },
  {
   "cell_type": "markdown",
   "id": "c735acc2",
   "metadata": {},
   "source": [
    "## Overview\n",
    "\n",
    "#### This notebook contains the python code to populate a database that contains tables: 1. diseases; 2. diagnosis_samples.  The data for these tables comes from a kaggle dataset containing close to 5,000 samples of symptoms and diagnosis.\n",
    "\n",
    "* The diseases data comes from two csv files (symptom_Description.csv and symptom_precaution.csv) found at:  https://www.kaggle.com/datasets/itachi9604/disease-symptom-description-dataset\n",
    "\n",
    "* The diagnosis_sample data comes from two csv files (dataset.csv and Symptom-severity.csv) found at:  https://www.kaggle.com/datasets/itachi9604/disease-symptom-description-dataset"
   ]
  },
  {
   "cell_type": "code",
   "execution_count": null,
   "id": "3614f3c2",
   "metadata": {},
   "outputs": [],
   "source": [
    "import pandas as pd\n",
    "from sqlalchemy import create_engine, inspect\n",
    "from sqlalchemy import Column, Integer, String, Float, Boolean, ForeignKey, UniqueConstraint, ForeignKeyConstraint\n",
    "from sqlalchemy_utils import database_exists, create_database\n",
    "from sqlalchemy.ext.declarative import declarative_base\n",
    "import config\n",
    "import numpy as np\n"
   ]
  },
  {
   "cell_type": "markdown",
   "id": "607439b3",
   "metadata": {},
   "source": [
    "## Extract\n",
    "\n",
    "* Each of the 4 csv files are loaded into dataframes\n",
    "    * symptom_Description.csv to disease_desc_df\n",
    "    * symptom_precaution.csv to disease_treat_df\n",
    "    * dataset.csv to samples_df\n",
    "    * Symptom-severity.csv to symp_sever_df"
   ]
  },
  {
   "cell_type": "code",
   "execution_count": null,
   "id": "f9b8a2fe",
   "metadata": {},
   "outputs": [],
   "source": [
    "# Extract symptom_Description.csv to disease_desc_df\n",
    "filename = '../Resources/symptom_Description.csv'\n",
    "disease_desc_df = pd.read_csv(filename)\n",
    "disease_desc_df.head()"
   ]
  },
  {
   "cell_type": "code",
   "execution_count": null,
   "id": "b2c0f2db",
   "metadata": {},
   "outputs": [],
   "source": [
    "# Extract symptom_precaution.csv to disease_treat_df\n",
    "filename = '../Resources/symptom_precaution.csv'\n",
    "disease_treat_df = pd.read_csv(filename)\n",
    "disease_treat_df.head()"
   ]
  },
  {
   "cell_type": "code",
   "execution_count": null,
   "id": "9e84a361",
   "metadata": {},
   "outputs": [],
   "source": [
    "# Extract dataset.csv to samples_df\n",
    "filename = '../Resources/dataset.csv'\n",
    "samples_df = pd.read_csv(filename)\n",
    "samples_df.head()"
   ]
  },
  {
   "cell_type": "code",
   "execution_count": null,
   "id": "af8c5eeb",
   "metadata": {},
   "outputs": [],
   "source": [
    "# Extract Symptom-severity.csv to symp_sever_df\n",
    "filename = '../Resources/Symptom-severity.csv'\n",
    "symp_sever_df = pd.read_csv(filename)\n",
    "symp_sever_df.head()"
   ]
  },
  {
   "cell_type": "markdown",
   "id": "2b72521a",
   "metadata": {},
   "source": [
    "## Transform"
   ]
  },
  {
   "cell_type": "markdown",
   "id": "15ad9dae",
   "metadata": {},
   "source": [
    "### 1. Transform Disease Data"
   ]
  },
  {
   "cell_type": "code",
   "execution_count": null,
   "id": "48493b4e",
   "metadata": {},
   "outputs": [],
   "source": [
    "# Check that Disease column values are the same from treatment and description dataframes\n",
    "disease_compare_df = pd.DataFrame()\n",
    "disease_compare_df['desc_disease'] = disease_desc_df['Disease']\n",
    "disease_compare_df['treat_disease'] = disease_treat_df['Disease']\n",
    "disease_compare_df['Check'] =  disease_compare_df['treat_disease']==disease_compare_df['desc_disease']\n",
    "disease_compare_df"
   ]
  },
  {
   "cell_type": "code",
   "execution_count": null,
   "id": "0b01a0f2",
   "metadata": {},
   "outputs": [],
   "source": [
    "# Remove leading and trailing spaces from Disease columns in both dataframes\n",
    "disease_desc_df['Disease'] = disease_desc_df['Disease'].str.strip()\n",
    "disease_treat_df['Disease'] = disease_treat_df['Disease'].str.strip()\n",
    "\n",
    "# fix misspelling in treatment file\n",
    "disease_treat_df.loc[ disease_treat_df['Disease'] == 'Dimorphic hemmorhoids(piles)', 'Disease'] = 'Dimorphic hemorrhoids(piles)'\n",
    "\n",
    "# Merge the disease_treat_df and disease_desc_df on the Disease field\n",
    "disease_df = disease_desc_df.merge(disease_treat_df[['Disease', 'Precaution_1', 'Precaution_2', 'Precaution_3', 'Precaution_4']], on=['Disease'])\n",
    "\n",
    "# Rename columns to read treatments vs precautions\n",
    "disease_df = disease_df.rename(columns={\"Disease\": \"disease\",\n",
    "                                        \"Description\" : \"description\",\n",
    "                                        \"Precaution_1\": \"treatment1\",\n",
    "                                        \"Precaution_2\": \"treatment2\",\n",
    "                                        \"Precaution_3\": \"treatment3\",\n",
    "                                        \"Precaution_4\": \"treatment4\"})\n",
    "\n",
    "# Add classifications column for disease severity - immediacy of seeking help based on if it says to go to hospital or consult a doctor\n",
    "\n",
    "\n",
    "disease_df"
   ]
  },
  {
   "cell_type": "markdown",
   "id": "5c379c2a",
   "metadata": {},
   "source": [
    "### 2. Transform Diagnosis Sample Data"
   ]
  },
  {
   "cell_type": "code",
   "execution_count": null,
   "id": "f2f79046",
   "metadata": {},
   "outputs": [],
   "source": [
    "# Create Sample ID\n",
    "samples_df['sample_id'] = np.arange(samples_df.shape[0])\n",
    "\n",
    "# Eliminate NaN\n",
    "samples_df = samples_df.fillna('')\n",
    "samples_df"
   ]
  },
  {
   "cell_type": "code",
   "execution_count": null,
   "id": "60fe078c",
   "metadata": {},
   "outputs": [],
   "source": [
    "# Identify the number and list of unique symptoms by taking the horizontal data and making it vertical\n",
    "symptom_df = pd.melt(samples_df, id_vars=['sample_id','Disease'], value_vars=['Symptom_1', 'Symptom_2', 'Symptom_3', 'Symptom_4', 'Symptom_5', 'Symptom_6', 'Symptom_7', 'Symptom_8', 'Symptom_9', 'Symptom_10', 'Symptom_11', 'Symptom_12', 'Symptom_13', 'Symptom_14', 'Symptom_15', 'Symptom_16', 'Symptom_17'])\n",
    "symptom_df"
   ]
  },
  {
   "cell_type": "code",
   "execution_count": null,
   "id": "f2b80429",
   "metadata": {},
   "outputs": [],
   "source": [
    "# Check the number of times each symptom appears\n",
    "symptom_df['value'].value_counts()"
   ]
  },
  {
   "cell_type": "code",
   "execution_count": null,
   "id": "81ada684",
   "metadata": {},
   "outputs": [],
   "source": [
    "# Assign an equal weight to each noted symptom when indicated\n",
    "symptom_df['weight'] = 1\n",
    "\n",
    "# fix misspelling in file\n",
    "symptom_df.loc[ symptom_df['Disease'] == 'Dimorphic hemmorhoids(piles)', 'Disease'] = 'Dimorphic hemorrhoids(piles)'\n",
    "\n",
    "# Remove leading and trailing spaces from disease\n",
    "symptom_df['Disease'] = symptom_df['Disease'].str.strip()\n",
    "\n",
    "# Remove spaces and parenthesis from symptoms\n",
    "symptom_df['value'] = symptom_df['value'].str.replace(' ', '')\n",
    "symptom_df['value'] = symptom_df['value'].str.replace(')', '')\n",
    "symptom_df['value'] = symptom_df['value'].str.replace('(', '')\n",
    "\n",
    "# Reduce the columns to only those needed\n",
    "symptom_df = symptom_df [['sample_id', 'Disease', 'value', 'weight']]\n",
    "\n",
    "# Drop the index\n",
    "symptom_df = symptom_df.drop(symptom_df[symptom_df.value == ''].index)\n",
    "\n",
    "# Rename column headings to lower case\n",
    "symptom_df = symptom_df.rename(columns={\"Disease\": \"disease\"})\n",
    "symptom_df"
   ]
  },
  {
   "cell_type": "code",
   "execution_count": null,
   "id": "449501f5",
   "metadata": {},
   "outputs": [],
   "source": [
    "# Pivot the table to create the columns with indicated values\n",
    "pd.set_option(\"display.max_columns\", None)\n",
    "samples_transformed_df = pd.DataFrame(symptom_df.reset_index().groupby(['sample_id', 'value'])['weight'].aggregate('first').unstack())\n",
    "\n",
    "# Change NaN values to 0\n",
    "samples_transformed_df = samples_transformed_df.fillna(0)\n",
    "samples_transformed_df.head()"
   ]
  },
  {
   "cell_type": "code",
   "execution_count": null,
   "id": "5a6064dd",
   "metadata": {},
   "outputs": [],
   "source": [
    "# Add the diagnosed disease into the dataset\n",
    "samples_transformed_df['disease'] = symptom_df['disease']\n",
    "samples_transformed_df"
   ]
  },
  {
   "cell_type": "code",
   "execution_count": null,
   "id": "63500241",
   "metadata": {},
   "outputs": [],
   "source": [
    "# Remove spaces and parenthesis from symptoms\n",
    "symp_sever_df['Symptom'] = symp_sever_df['Symptom'].str.replace(' ', '')\n",
    "symp_sever_df['Symptom'] = symp_sever_df['Symptom'].str.replace(')', '')\n",
    "symp_sever_df['Symptom'] = symp_sever_df['Symptom'].str.replace('(', '')\n",
    "symp_sever_df"
   ]
  },
  {
   "cell_type": "code",
   "execution_count": null,
   "id": "bc428399",
   "metadata": {},
   "outputs": [],
   "source": [
    "# Apply the symptom weight values to the dataframe\n",
    "weighted_samples_df = samples_transformed_df.copy()\n",
    "\n",
    "for column in weighted_samples_df:\n",
    "    if weighted_samples_df[column].name != 'disease':\n",
    "        value = symp_sever_df.loc[symp_sever_df['Symptom'] == weighted_samples_df[column].name, 'weight'].iloc[0]\n",
    "        weighted_samples_df[column] = weighted_samples_df[column] * value\n",
    "\n",
    "weighted_samples_df"
   ]
  },
  {
   "cell_type": "markdown",
   "id": "e33283fc",
   "metadata": {},
   "source": [
    "# Load \n",
    "##### Save the new dataframes to csv files for the flask server to consume"
   ]
  },
  {
   "cell_type": "code",
   "execution_count": null,
   "id": "eb758919",
   "metadata": {},
   "outputs": [],
   "source": [
    "# Save disease data to csv\n",
    "disease_df.to_csv(\"../Resources/disease_df.csv\")"
   ]
  },
  {
   "cell_type": "code",
   "execution_count": null,
   "id": "8cf67630",
   "metadata": {},
   "outputs": [],
   "source": [
    "# Save samples and diagnosis to csv\n",
    "weighted_samples_df.to_csv(\"../Resources/weighted_samples_df.csv\")"
   ]
  }
 ],
 "metadata": {
  "kernelspec": {
   "display_name": "Python 3 (ipykernel)",
   "language": "python",
   "name": "python3"
  },
  "language_info": {
   "codemirror_mode": {
    "name": "ipython",
    "version": 3
   },
   "file_extension": ".py",
   "mimetype": "text/x-python",
   "name": "python",
   "nbconvert_exporter": "python",
   "pygments_lexer": "ipython3",
   "version": "3.8.13"
  }
 },
 "nbformat": 4,
 "nbformat_minor": 5
}
